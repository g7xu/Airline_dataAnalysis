{
 "cells": [
  {
   "cell_type": "markdown",
   "metadata": {},
   "source": [
    "# evaluating the degree of impact on removing ticket with 0 price"
   ]
  },
  {
   "cell_type": "code",
   "execution_count": 54,
   "metadata": {},
   "outputs": [],
   "source": [
    "import pandas as pd\n",
    "import numpy as np\n",
    "\n",
    "ori_tickets = pd.read_csv('../data/cleaned_data/Tickets.csv')"
   ]
  },
  {
   "cell_type": "code",
   "execution_count": 55,
   "metadata": {},
   "outputs": [],
   "source": [
    "free_tickets_proportion = round(ori_tickets['ITIN_FARE'].isnull().sum() / len(ori_tickets) * 100, 2)"
   ]
  },
  {
   "cell_type": "markdown",
   "metadata": {},
   "source": [
    "## Compare the impact before and after removing the ticket of 0 price\n",
    "- will evaluate the distribution of ORIGIN, DEST, ORIGIN_STATE, OPERATION carrier"
   ]
  },
  {
   "cell_type": "code",
   "execution_count": 56,
   "metadata": {},
   "outputs": [],
   "source": [
    "def tvd(series1, series2):\n",
    "    ser_diff = series1.combine(series2, lambda x, y: y  if pd.isnull(x) else x if pd.isnull(y) else x - y)\n",
    "    return 0.5 * np.sum(np.abs(ser_diff))"
   ]
  },
  {
   "cell_type": "code",
   "execution_count": 57,
   "metadata": {},
   "outputs": [],
   "source": [
    "ori_tickets_no_free = ori_tickets[ori_tickets['ITIN_FARE'].notnull()]"
   ]
  },
  {
   "cell_type": "code",
   "execution_count": 58,
   "metadata": {},
   "outputs": [],
   "source": [
    "tvd_across_columns = {}\n",
    "for col in ['ORIGIN_AIRPORT_IATA_CODE', 'ORIGIN_STATE_ABR', 'OP_CARRIER', 'DEST_AIRPORT_IATA_CODE']:\n",
    "    tvd_across_columns[col] = tvd(ori_tickets[col].value_counts(normalize=True), ori_tickets_no_free[col].value_counts(normalize=True))"
   ]
  },
  {
   "cell_type": "markdown",
   "metadata": {},
   "source": [
    "# Conclusion"
   ]
  },
  {
   "cell_type": "code",
   "execution_count": 59,
   "metadata": {},
   "outputs": [
    {
     "name": "stdout",
     "output_type": "stream",
     "text": [
      "0.07% of the ticket has price of 0 assoicated with it which is really low\n",
      "TVD of orginal and modified ticket data on ORIGIN_AIRPORT_IATA_CODE is 0.00018956667384382902\n",
      "TVD of orginal and modified ticket data on ORIGIN_STATE_ABR is 8.62530261284656e-05\n",
      "TVD of orginal and modified ticket data on OP_CARRIER is 6.253813875461848e-05\n",
      "TVD of orginal and modified ticket data on DEST_AIRPORT_IATA_CODE is 0.00016569140934213444\n"
     ]
    }
   ],
   "source": [
    "print(f\"{free_tickets_proportion}% of the ticket has price of 0 assoicated with it which is really low\")\n",
    "for k, v in tvd_across_columns.items():\n",
    "    print(f\"TVD of orginal and modified ticket data on {k} is {v}\")"
   ]
  },
  {
   "cell_type": "markdown",
   "metadata": {},
   "source": [
    "Each of the above values is less than 0.01, so we can conclude that the impact of removing ticket with 0 price has extremely low impact on the data set"
   ]
  }
 ],
 "metadata": {
  "kernelspec": {
   "display_name": "tongConsultinInc",
   "language": "python",
   "name": "python3"
  },
  "language_info": {
   "codemirror_mode": {
    "name": "ipython",
    "version": 3
   },
   "file_extension": ".py",
   "mimetype": "text/x-python",
   "name": "python",
   "nbconvert_exporter": "python",
   "pygments_lexer": "ipython3",
   "version": "3.8.19"
  }
 },
 "nbformat": 4,
 "nbformat_minor": 2
}
